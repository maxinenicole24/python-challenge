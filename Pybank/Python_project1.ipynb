{
 "cells": [
  {
   "cell_type": "code",
   "execution_count": 8,
   "id": "3ac53dd1-c063-4928-a471-d4cb6d907edd",
   "metadata": {},
   "outputs": [],
   "source": [
    "jan_2010 = 867884\n",
    "feb_2010 = 984655\n",
    "mar_2010 = 322013\n",
    "apr_2010 = -69417\n",
    "may_2010 = 310503\n",
    "jun_2010 = 522857\n",
    "jul_2010 = 1033096\n",
    "aug_2010 = 604885\n",
    "sep_2010 = -216386\n",
    "oct_2010 = -216386\n",
    "nov_2010 = 893810\n",
    "dec_2010 = -80353\n",
    "jan_2011 = 779806\n",
    "feb_2011 = -335203\n",
    "mar_2011 = 697845\n",
    "apr_2011 = 793163\n",
    "may_2011 = 485070\n",
    "jun_2011 = 584122\n",
    "jul_2011 = 62729\n",
    "aug_2011 = 668179\n",
    "sep_2011 = 899906\n",
    "oct_2011 = 834719\n",
    "nov_2011 = 132003\n",
    "dec_2011 = 309978\n",
    "jan_2012 = -755566\n",
    "feb_2012 = 1170593\n",
    "mar_2012 = 252788\n",
    "apr_2012 = 1151518\n",
    "may_2012 = 817256\n",
    "jun_2012 = 570757\n",
    "jul_2012 = 506702\n",
    "aug_2012 = -1022534\n",
    "sep_2012 = 475062\n",
    "oct_2012 = 779976\n",
    "nov_2012 = 144175\n",
    "dec_2012 = 542494\n",
    "jan_2013 = 359333\n",
    "feb_2013 = 321469\n",
    "mar_2013 = 67780\n",
    "apr_2013 = 471435\n",
    "may_2013 = 565603\n",
    "jun_2013 = 872480\n",
    "jul_2013 = 789480\n",
    "aug_2013 = 999942\n",
    "sep_2013 = -1196225\n",
    "oct_2013 = 268997\n",
    "nov_2013 = -687986\n",
    "dec_2013 = 1150461\n",
    "jan_2014 = 682458\n",
    "feb_2014 = 617856\n",
    "mar_2014 = 624098\n",
    "apr_2014 = 581943\n",
    "may_2014 = 132864\n",
    "jun_2014 = 448062\n",
    "jul_2014 = 689161\n",
    "aug_2014 = 800791\n",
    "sep_2014 = 1166643\n",
    "oct_2014 = 947333\n",
    "nov_2014 = 578668\n",
    "dec_2014 = 988505\n",
    "jan_2015 = 1139715\n",
    "feb_2015 = 1029471\n",
    "mar_2015 = 687533\n",
    "apr_2015 = -524626\n",
    "may_2015 = 158620\n",
    "jun_2015 = 87795\n",
    "jul_2015 = 423389\n",
    "aug_2015 = 840723\n",
    "sep_2015 = 568529\n",
    "oct_2015 = 332067\n",
    "nov_2015 = 989499\n",
    "dec_2015 = 778237\n",
    "jan_2016 = 650000\n",
    "feb_2016 = -1100387\n",
    "mar_2016 = -174946\n",
    "apr_2016 = 757143\n",
    "may_2016 = 445709\n",
    "jun_2016 = 712961\n",
    "jul_2016 = -1163797\n",
    "aug_2016 = 569899\n",
    "sep_2016 = 768450\n",
    "oct_2016 = 102685\n",
    "nov_2016 = 795914\n",
    "dec_2016 = 60988\n",
    "jan_2017 = 138230\n",
    "feb_2017 = 671099"
   ]
  },
  {
   "cell_type": "code",
   "execution_count": 38,
   "id": "99b594cb-e978-4491-81cb-92e4c13163cf",
   "metadata": {},
   "outputs": [],
   "source": [
    "profit = [867884, 984655, 322013, -69417, 310503, 522857, 1033096, 604885, -216386, 477532, 893810, -80353, 779806, -335203, 697845, 793163, 485070, 584122, 62729, 668179, 899906, 834719, 132003, 309978, -755566, 1170593, 252788, 1151518, 817256, 570757, 506702, -1022534, 475062, 779976, 144175, 542494, 359333, 321469, 67780, 471435, 565603, 872480, 789480, 999942, -1196225, 268997, -687986, 1150461, 682458, 617856, 624098, 581943, 132864, 448062, 689161, 800791, 1166643, 947333, 578668, 988505, 1139715, 1029471, 687533, -524626, 158620, 87795, 423389, 840723, 568529, 332067, 989499, 778237, 650000, -1100387,-174946, 757143, 445709, 712961, -1163797, 569899, 768450, 102685, 795914, 60988, 138230, 671099]      "
   ]
  },
  {
   "cell_type": "code",
   "execution_count": 39,
   "id": "aea9c8f9-79a3-474c-a215-4cd591317ec8",
   "metadata": {},
   "outputs": [],
   "source": [
    "count = 0 \n",
    "total = 0 \n",
    "average = 0 \n",
    "minimum = 0 \n",
    "maximum = 0 "
   ]
  },
  {
   "cell_type": "code",
   "execution_count": null,
   "id": "07a56694-cc28-45a1-9b5e-1dbd0ce0ab39",
   "metadata": {},
   "outputs": [],
   "source": []
  },
  {
   "cell_type": "code",
   "execution_count": 40,
   "id": "b718c759-fda4-4f70-9263-05641e365954",
   "metadata": {},
   "outputs": [],
   "source": [
    "for prof in profit: \n",
    "    total += prof\n",
    "    count += 1"
   ]
  },
  {
   "cell_type": "code",
   "execution_count": 41,
   "id": "fe7dd043-a73e-4315-ae65-394a019a38e4",
   "metadata": {},
   "outputs": [],
   "source": [
    "for prof in profit:\n",
    "    if minimum == 0:\n",
    "        minimum = prof\n",
    "    elif prof < minimum:\n",
    "        minimum = prof\n",
    "    elif prof > maximum:\n",
    "        maximum = prof"
   ]
  },
  {
   "cell_type": "code",
   "execution_count": 42,
   "id": "7c3b569f-bfa9-4cea-9e78-6bbf6910b6d9",
   "metadata": {},
   "outputs": [],
   "source": [
    "for prof in profit: \n",
    "    average = round (total / count, 2)"
   ]
  },
  {
   "cell_type": "code",
   "execution_count": 43,
   "id": "c38fc2c4-3225-4618-a88b-c021e2abc69d",
   "metadata": {},
   "outputs": [
    {
     "name": "stdout",
     "output_type": "stream",
     "text": [
      "-------Summary of Statistics-----\n",
      "Number of months in data set:86\n",
      "Total Profit:38182668\n",
      "Average Profit:443984.51\n",
      "Least Amount of Profit:-1196225\n",
      "Maximum Amount of Profit:1170593\n"
     ]
    }
   ],
   "source": [
    "print(\"-------Summary of Statistics-----\")\n",
    "print(f\"Number of months in data set:{count}\")\n",
    "print(f\"Total Profit:{total}\")\n",
    "print(f\"Average Profit:{average}\")\n",
    "print(f\"Least Amount of Profit:{minimum}\")\n",
    "print(f\"Maximum Amount of Profit:{maximum}\")\n"
   ]
  },
  {
   "cell_type": "code",
   "execution_count": 50,
   "id": "963d220a-8171-4405-8924-98d1557409e3",
   "metadata": {},
   "outputs": [
    {
     "data": {
      "text/plain": [
       "1170593"
      ]
     },
     "execution_count": 50,
     "metadata": {},
     "output_type": "execute_result"
    }
   ],
   "source": [
    "max(profit)"
   ]
  },
  {
   "cell_type": "code",
   "execution_count": 70,
   "id": "ca886475-e8d4-4d5a-b4ea-35fa7e450b25",
   "metadata": {},
   "outputs": [
    {
     "data": {
      "text/plain": [
       "-1196225"
      ]
     },
     "execution_count": 70,
     "metadata": {},
     "output_type": "execute_result"
    }
   ],
   "source": [
    "min(profit) "
   ]
  }
 ],
 "metadata": {
  "kernelspec": {
   "display_name": "Python 3 (ipykernel)",
   "language": "python",
   "name": "python3"
  },
  "language_info": {
   "codemirror_mode": {
    "name": "ipython",
    "version": 3
   },
   "file_extension": ".py",
   "mimetype": "text/x-python",
   "name": "python",
   "nbconvert_exporter": "python",
   "pygments_lexer": "ipython3",
   "version": "3.9.12"
  }
 },
 "nbformat": 4,
 "nbformat_minor": 5
}
